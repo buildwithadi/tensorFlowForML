{
  "nbformat": 4,
  "nbformat_minor": 0,
  "metadata": {
    "colab": {
      "provenance": [],
      "gpuType": "T4",
      "authorship_tag": "ABX9TyPowScXUUA/WjwzbKyKS1te",
      "include_colab_link": true
    },
    "kernelspec": {
      "name": "python3",
      "display_name": "Python 3"
    },
    "language_info": {
      "name": "python"
    },
    "accelerator": "GPU"
  },
  "cells": [
    {
      "cell_type": "markdown",
      "metadata": {
        "id": "view-in-github",
        "colab_type": "text"
      },
      "source": [
        "<a href=\"https://colab.research.google.com/github/buildwithadi/tensorFlowForML/blob/courseProjects/celsiusToFahrenheit.ipynb\" target=\"_parent\"><img src=\"https://colab.research.google.com/assets/colab-badge.svg\" alt=\"Open In Colab\"/></a>"
      ]
    },
    {
      "cell_type": "code",
      "execution_count": null,
      "metadata": {
        "id": "q6_B8cg91EPo"
      },
      "outputs": [],
      "source": [
        "import tensorflow as tf\n",
        "#tf.logging.set_verbosity(tf.logging.ERROR)\n",
        "\n",
        "import numpy as np"
      ]
    },
    {
      "cell_type": "code",
      "source": [
        "celsius_q = np.array([-40,-10,0,8,15,22,38],dtype=float)\n",
        "fahrenheit_a = np.array([-40,14,32,46,59,72,100], dtype=float)\n",
        "\n",
        "for i,c in enumerate(celsius_q):\n",
        "    print(\"{} degrees celsius = {} degrees fahrenheit\".format(c,fahrenheit_a[i]))"
      ],
      "metadata": {
        "colab": {
          "base_uri": "https://localhost:8080/"
        },
        "id": "_pUQlZ-g7Tqa",
        "outputId": "d7022c19-4349-4377-c6b5-d6d2a3618340"
      },
      "execution_count": null,
      "outputs": [
        {
          "output_type": "stream",
          "name": "stdout",
          "text": [
            "-40.0 degrees celsius = -40.0 degrees fahrenheit\n",
            "-10.0 degrees celsius = 14.0 degrees fahrenheit\n",
            "0.0 degrees celsius = 32.0 degrees fahrenheit\n",
            "8.0 degrees celsius = 46.0 degrees fahrenheit\n",
            "15.0 degrees celsius = 59.0 degrees fahrenheit\n",
            "22.0 degrees celsius = 72.0 degrees fahrenheit\n",
            "38.0 degrees celsius = 100.0 degrees fahrenheit\n"
          ]
        }
      ]
    },
    {
      "cell_type": "markdown",
      "source": [],
      "metadata": {
        "id": "XY3zNCOMwp2V"
      }
    },
    {
      "cell_type": "markdown",
      "source": [
        "## **Some Machine Learning terminology**\n",
        "- **Feature** - The input(s) to our model. In this case, a single value - the degrees in Celsius\n",
        "- **Lables** - The output our model predicts. In this case, a single value - the degrees in Fahrenfet.\n",
        "- **Training Example** - A pair of inputs/outputs used during training. In our case a pair of values from celsius_q and fahrenhet_a at a specific index, such as (22,72)\n",
        "\n",
        "\n",
        "\n"
      ],
      "metadata": {
        "id": "zFyYG3oE8SNZ"
      }
    },
    {
      "cell_type": "markdown",
      "source": [
        "## **Create the Model**"
      ],
      "metadata": {
        "id": "qxD_mGpd9fUC"
      }
    },
    {
      "cell_type": "markdown",
      "source": [
        "### **Build Model**"
      ],
      "metadata": {
        "id": "8McWUdo59x2F"
      }
    },
    {
      "cell_type": "code",
      "source": [
        "l0 = tf.keras.layers.Dense(units=1, input_shape=[1])"
      ],
      "metadata": {
        "colab": {
          "base_uri": "https://localhost:8080/"
        },
        "id": "tHuoj8F79LXm",
        "outputId": "d54f25c9-8387-441c-c958-61656853b769"
      },
      "execution_count": null,
      "outputs": [
        {
          "output_type": "stream",
          "name": "stderr",
          "text": [
            "/usr/local/lib/python3.10/dist-packages/keras/src/layers/core/dense.py:87: UserWarning: Do not pass an `input_shape`/`input_dim` argument to a layer. When using Sequential models, prefer using an `Input(shape)` object as the first layer in the model instead.\n",
            "  super().__init__(activity_regularizer=activity_regularizer, **kwargs)\n"
          ]
        }
      ]
    },
    {
      "cell_type": "markdown",
      "source": [
        "### **Assemble layers into the model**\n",
        "Once layers are defined, they need to be assembled into a model. The sequential model definition takes a list of layers as argument, specifying the calculation order from the input to the output.\n"
      ],
      "metadata": {
        "id": "AKHhY8uF9nOT"
      }
    },
    {
      "cell_type": "code",
      "source": [
        "model = tf.keras.Sequential([l0])"
      ],
      "metadata": {
        "id": "jj35OeyJ9aKO"
      },
      "execution_count": null,
      "outputs": []
    },
    {
      "cell_type": "markdown",
      "source": [
        "### **Compile the model, with loss and optimizer functions**\n",
        "Before training, the model has to be compiled. When compiled for training, the model is give:\n",
        "- **Loss Function** - A way of measuring how far off predictions are from the desired outcome. (The measure of difference is called the \"loss\")\n",
        "- **Optimizer Function** - A way of adjusting internal values in order to reduce the loss."
      ],
      "metadata": {
        "id": "hsEQcg9l-z8L"
      }
    },
    {
      "cell_type": "code",
      "source": [
        "model.compile(loss='mean_squared_error',optimizer=tf.keras.optimizers.Adam(0.1))"
      ],
      "metadata": {
        "id": "qnEd3HYX-ZBm"
      },
      "execution_count": null,
      "outputs": []
    },
    {
      "cell_type": "markdown",
      "source": [
        "## **Train the Model**\n",
        "Train the model by callinf the \"fit\" method.\n"
      ],
      "metadata": {
        "id": "d3g5DKp3EiXh"
      }
    },
    {
      "cell_type": "code",
      "source": [
        "history = model.fit(celsius_q, fahrenheit_a, epochs=500, verbose=False)\n",
        "print(\"Finished training the model\")"
      ],
      "metadata": {
        "colab": {
          "base_uri": "https://localhost:8080/"
        },
        "id": "JXRTm0qgEU_B",
        "outputId": "4e6bc06b-5cfa-4c02-90ed-7bca9182ab1a"
      },
      "execution_count": null,
      "outputs": [
        {
          "output_type": "stream",
          "name": "stdout",
          "text": [
            "Finished training the model\n"
          ]
        }
      ]
    },
    {
      "cell_type": "markdown",
      "source": [
        "## **Display training statistics**\n",
        "The \"fit\" method returs a history object. We can use this object to plot how the loss of our model goes down after each training epoch. A high loss means that the Fahrenheit degrees the model predicts is far from the corresponding value in Fahrenheit_a\n"
      ],
      "metadata": {
        "id": "xggHQWyiFtyA"
      }
    },
    {
      "cell_type": "code",
      "source": [
        "import matplotlib.pyplot as plt\n",
        "plt.xlabel('Epoch Number')\n",
        "plt.ylabel(\"Loss Magnitude\")\n",
        "plt.plot(history.history['loss'])"
      ],
      "metadata": {
        "colab": {
          "base_uri": "https://localhost:8080/",
          "height": 466
        },
        "id": "YtsBQVTPGafI",
        "outputId": "5abb78cb-cc0b-4f52-ef46-4224f07bbf3e"
      },
      "execution_count": null,
      "outputs": [
        {
          "output_type": "execute_result",
          "data": {
            "text/plain": [
              "[<matplotlib.lines.Line2D at 0x7d0ec01d69b0>]"
            ]
          },
          "metadata": {},
          "execution_count": 9
        },
        {
          "output_type": "display_data",
          "data": {
            "text/plain": [
              "<Figure size 640x480 with 1 Axes>"
            ],
            "image/png": "[encoded data removed]"
          },
          "metadata": {}
        }
      ]
    },
    {
      "cell_type": "markdown",
      "source": [
        "## **Use the Model to Predict Values**\n"
      ],
      "metadata": {
        "id": "TrgfA6CPGyqH"
      }
    },
    {
      "cell_type": "code",
      "source": [
        "print(model.predict(np.array([100.0])))"
      ],
      "metadata": {
        "colab": {
          "base_uri": "https://localhost:8080/"
        },
        "id": "jaj7oxgqG3ai",
        "outputId": "cbd380af-b72d-4c12-cc4a-b95d8c7f3e9f"
      },
      "execution_count": null,
      "outputs": [
        {
          "output_type": "stream",
          "name": "stdout",
          "text": [
            "\u001b[1m1/1\u001b[0m \u001b[32m━━━━━━━━━━━━━━━━━━━━\u001b[0m\u001b[37m\u001b[0m \u001b[1m0s\u001b[0m 16ms/step\n",
            "[[211.2819]]\n"
          ]
        }
      ]
    },
    {
      "cell_type": "code",
      "source": [
        "print(\"These are the layer variables: {}\".format(l0.get_weights()))"
      ],
      "metadata": {
        "colab": {
          "base_uri": "https://localhost:8080/"
        },
        "id": "eVhhuwbtG6_U",
        "outputId": "f2cf3534-e7ac-4ffb-8c99-242a345832fb"
      },
      "execution_count": null,
      "outputs": [
        {
          "output_type": "stream",
          "name": "stdout",
          "text": [
            "These are the layer variables: [array([[1.8282226]], dtype=float32), array([28.45964], dtype=float32)]\n"
          ]
        }
      ]
    },
    {
      "cell_type": "code",
      "source": [],
      "metadata": {
        "id": "pyQWtBk_TV60"
      },
      "execution_count": null,
      "outputs": []
    }
  ]
}